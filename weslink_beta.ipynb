{
  "cells": [
    {
      "cell_type": "markdown",
      "metadata": {
        "colab_type": "text",
        "id": "view-in-github"
      },
      "source": [
        "<a href=\"https://colab.research.google.com/github/ysut/weslink/blob/main/weslink_beta.ipynb\" target=\"_parent\"><img src=\"https://colab.research.google.com/assets/colab-badge.svg\" alt=\"Open In Colab\"/></a>"
      ]
    },
    {
      "cell_type": "markdown",
      "metadata": {
        "id": "My3kIrBFiaho"
      },
      "source": [
        "# How to use\n",
        "Please click ▶ buttons.  "
      ]
    },
    {
      "cell_type": "markdown",
      "metadata": {
        "id": "mydSnDHwSNcx"
      },
      "source": [
        "# Step 1.  \n",
        "Let's upload your files.  \n",
        "Excel file (.xlsx) is only available now (12/20/2022)."
      ]
    },
    {
      "cell_type": "code",
      "execution_count": null,
      "metadata": {
        "id": "2XzoDedmh451"
      },
      "outputs": [],
      "source": [
        "!pip install liftover\n",
        "import pathlib\n",
        "import openpyxl\n",
        "from liftover import get_lifter\n",
        "from google.colab import files\n",
        "\n",
        "uploaded = files.upload()"
      ]
    },
    {
      "cell_type": "markdown",
      "metadata": {
        "id": "Qnh3ImXyGkc_"
      },
      "source": [
        "# Step 2.  \n",
        "Get a path to your file from 📁. You can copy a path by right click.   \n",
        "Then, please paste in the next form."
      ]
    },
    {
      "cell_type": "code",
      "execution_count": null,
      "metadata": {
        "id": "Fmemv_t8jZHp"
      },
      "outputs": [],
      "source": [
        "input_file = input('Please enter a path: ')"
      ]
    },
    {
      "cell_type": "markdown",
      "metadata": {
        "id": "JDz4Ml5nHctp"
      },
      "source": [
        "# Step 3.\n",
        "まとめてRUNしてください．"
      ]
    },
    {
      "cell_type": "markdown",
      "metadata": {
        "id": "C8FoIN04S88D"
      },
      "source": [
        "# RUN"
      ]
    },
    {
      "cell_type": "code",
      "execution_count": 23,
      "metadata": {
        "id": "XaO6k3ppPN60"
      },
      "outputs": [],
      "source": [
        "hgmd_link = '1'\n",
        "ucsc_link = '2'\n",
        "franklin_link = '3'\n",
        "decipher_link = '4'\n",
        "symbol_column = 'Gene.refGene'\n",
        "\n",
        "# Choose one page from 'assessment-tools', 'acmg-classification', 'publications', and 'gene-assessment'\n",
        "franklin_page = 'assessment-tools' \n",
        "\n",
        "is_hgmd = True\n",
        "is_ucsc = True\n",
        "is_franklin = True\n",
        "is_decipher = True\n",
        "\n",
        "# Display the range specified plus or minus bp\n",
        "ucsc_width: int = 30 "
      ]
    },
    {
      "cell_type": "markdown",
      "metadata": {
        "id": "uCk5c5REjluR"
      },
      "source": [
        "## Code  \n",
        "There is main code. You can modify it as needed."
      ]
    },
    {
      "cell_type": "code",
      "execution_count": 24,
      "metadata": {
        "id": "GCgCSzXUa3tV"
      },
      "outputs": [],
      "source": [
        "class HyperLinks:\n",
        "    def __init__(self, input_file, hgmd_link, ucsc_link, franklin_link, decipher_link, symbol_column):\n",
        "        self.input_file = input_file\n",
        "        self.workbook = openpyxl.load_workbook(self.input_file)\n",
        "        self.sheet_names = self.workbook.sheetnames\n",
        "        self.sheets = self.workbook.worksheets\n",
        "        self.symbol_column = symbol_column\n",
        "        self.insert_column_hgmd = openpyxl.utils.cell.get_column_letter(int(hgmd_link))\n",
        "        self.insert_column_ucsc = openpyxl.utils.cell.get_column_letter(int(ucsc_link))\n",
        "        self.insert_column_frnk = openpyxl.utils.cell.get_column_letter(int(franklin_link)) \n",
        "        self.insert_column_dcpr = openpyxl.utils.cell.get_column_letter(int(decipher_link))\n",
        "        self.input_path = pathlib.Path(self.input_file)\n",
        "        self.input_file_name = self.input_path.stem\n",
        "    \n",
        "    def __del__(self):\n",
        "        self.workbook.close()\n",
        "        \n",
        "    def _search_column_letter(self, keywords):\n",
        "        result = {}\n",
        "        for i, sheet in enumerate(self.sheets):\n",
        "            key_letter_dict = {}\n",
        "            for cell in sheet['1']:\n",
        "                try:\n",
        "                    value = str(cell.value)\n",
        "                except: \n",
        "                    continue\n",
        "                for keyword in keywords:\n",
        "                    if value == keyword:\n",
        "                        letter = cell.column_letter\n",
        "                        key_letter_dict[keyword] = letter\n",
        "                        break\n",
        "                    else:\n",
        "                        pass\n",
        "            result[self.sheet_names[i]] = key_letter_dict\n",
        "        return result \n",
        "    \n",
        "    def hyperlink_hgmd(self):\n",
        "        column_letters = self._search_column_letter([self.symbol_column])\n",
        "        for sheet_num, sheet in enumerate(self.sheets):\n",
        "            symbol_column_letter = column_letters[self.sheet_names[sheet_num]][self.symbol_column]\n",
        "            max_row = sheet.max_row\n",
        "            for index in range(max_row):\n",
        "                gene_symbol = sheet[f'{symbol_column_letter}{index + 1}'].value\n",
        "                hgmd_url = f'https://my.qiagendigitalinsights.com/bbp/view/hgmd/pro/gene.php?gene={gene_symbol}'\n",
        "                sheet[f'{self.insert_column_hgmd}{index + 1}'].hyperlink = hgmd_url\n",
        "    \n",
        "    def hyperlink_ucsc(self):\n",
        "        column_letters = self._search_column_letter([self.symbol_column, 'CHROM', 'Start', 'End'])\n",
        "        for sheet_num, sheet in enumerate(self.sheets):\n",
        "            symbol_column_letter = column_letters[self.sheet_names[sheet_num]][self.symbol_column]\n",
        "            chrom_column_letter = column_letters[self.sheet_names[sheet_num]]['CHROM']\n",
        "            start_column_letter = column_letters[self.sheet_names[sheet_num]]['Start']\n",
        "            end_column_letter = column_letters[self.sheet_names[sheet_num]]['End']\n",
        "            max_row = sheet.max_row\n",
        "            for index in range(max_row):\n",
        "                if index != 0:\n",
        "                    gene_symbol = sheet[f'{symbol_column_letter}{index + 1}'].value\n",
        "                    chrom = sheet[f'{chrom_column_letter}{index + 1}'].value\n",
        "                    start = int(sheet[f'{start_column_letter}{index + 1}'].value)\n",
        "                    end = int(sheet[f'{end_column_letter}{index + 1}'].value)\n",
        "                    ucsc_url = f'https://genome-asia.ucsc.edu/cgi-bin/hgTracks?db=hg19&highlight=hg19.chr{chrom}%3A{start}-{end}&position=chr{chrom}%3A{start - ucsc_width}-{end + ucsc_width}'\n",
        "                    sheet[f'{self.insert_column_ucsc}{index + 1}'].hyperlink = ucsc_url\n",
        "                else:\n",
        "                    pass\n",
        "\n",
        "    def hyperlink_franklin(self):\n",
        "        column_letters = self._search_column_letter([self.symbol_column, 'CHROM', 'POS', 'REF', 'ALT'])\n",
        "        for sheet_num, sheet in enumerate(self.sheets):\n",
        "            symbol_column_letter = column_letters[self.sheet_names[sheet_num]][self.symbol_column]\n",
        "            chrom_column_letter = column_letters[self.sheet_names[sheet_num]]['CHROM']\n",
        "            pos_column_letter = column_letters[self.sheet_names[sheet_num]]['POS']\n",
        "            ref_column_letter = column_letters[self.sheet_names[sheet_num]]['REF']\n",
        "            alt_column_letter = column_letters[self.sheet_names[sheet_num]]['ALT']\n",
        "            max_row = sheet.max_row\n",
        "            for index in range(max_row):\n",
        "                if index != 0:\n",
        "                    gene_symbol = sheet[f'{symbol_column_letter}{index + 1}'].value\n",
        "                    chrom = sheet[f'{chrom_column_letter}{index + 1}'].value\n",
        "                    pos = int(sheet[f'{pos_column_letter}{index + 1}'].value)\n",
        "                    ref = sheet[f'{ref_column_letter}{index + 1}'].value\n",
        "                    alt = sheet[f'{alt_column_letter}{index + 1}'].value\n",
        "                    frnk_url = f'https://franklin.genoox.com/clinical-db/variant/snp/chr{chrom}-{pos}-{ref}-{alt}?app={franklin_page}'\n",
        "                    sheet[f'{self.insert_column_frnk}{index + 1}'].hyperlink = frnk_url\n",
        "                else:\n",
        "                    pass\n",
        "\n",
        "    def hyperlink_decipher(self):\n",
        "        column_letters = self._search_column_letter([self.symbol_column, 'CHROM', 'POS', 'REF', 'ALT'])\n",
        "        for sheet_num, sheet in enumerate(self.sheets):\n",
        "            symbol_column_letter = column_letters[self.sheet_names[sheet_num]][self.symbol_column]\n",
        "            chrom_column_letter = column_letters[self.sheet_names[sheet_num]]['CHROM']\n",
        "            pos_column_letter = column_letters[self.sheet_names[sheet_num]]['POS']\n",
        "            ref_column_letter = column_letters[self.sheet_names[sheet_num]]['REF']\n",
        "            alt_column_letter = column_letters[self.sheet_names[sheet_num]]['ALT']\n",
        "            max_row = sheet.max_row\n",
        "            for index in range(max_row):\n",
        "                if index != 0:\n",
        "                    gene_symbol = sheet[f'{symbol_column_letter}{index + 1}'].value\n",
        "                    chrom = sheet[f'{chrom_column_letter}{index + 1}'].value\n",
        "                    pos = int(sheet[f'{pos_column_letter}{index + 1}'].value)\n",
        "                    ref = sheet[f'{ref_column_letter}{index + 1}'].value\n",
        "                    alt = sheet[f'{alt_column_letter}{index + 1}'].value\n",
        "                    converter = get_lifter('hg19', 'hg38')\n",
        "                    try: \n",
        "                        pos_hg38 = converter[chrom][pos][0][1]\n",
        "                    except IndexError:\n",
        "                        dcphr_url = f'https://www.deciphergenomics.org/gene/{gene_symbol}/overview/protein-genomic-info'\n",
        "                        sheet[f'{self.insert_column_dcpr}{index + 1}'].hyperlink = dcpr_url\n",
        "                        continue\n",
        "                    dcpr_url = f'https://www.deciphergenomics.org/sequence-variant/{chrom}-{pos_hg38}-{ref}-{alt}/genes/{gene_symbol}/protein-genomic-info'\n",
        "                    sheet[f'{self.insert_column_dcpr}{index + 1}'].hyperlink = dcpr_url\n",
        "                else:\n",
        "                    pass \n",
        "\n",
        "    def save_dl(self):\n",
        "        output_name = f'{self.input_file_name}.weslinked.xlsx'\n",
        "        self.workbook.save(output_name)\n",
        "        files.download(output_name)\n",
        "\n",
        "\n",
        "def main():\n",
        "    linkanno = HyperLinks(input_file, hgmd_link, ucsc_link, franklin_link, decipher_link, symbol_column)\n",
        "\n",
        "    if is_hgmd:\n",
        "        linkanno.hyperlink_hgmd()\n",
        "    else:\n",
        "        pass\n",
        "\n",
        "    if is_ucsc:\n",
        "        linkanno.hyperlink_ucsc()\n",
        "    else:\n",
        "        pass\n",
        "    \n",
        "    if is_franklin:\n",
        "        linkanno.hyperlink_franklin()\n",
        "    else:\n",
        "        pass\n",
        "    \n",
        "    if is_decipher:\n",
        "        linkanno.hyperlink_decipher()\n",
        "    else:\n",
        "        pass\n",
        "\n",
        "    linkanno.save_dl()\n",
        "    \n",
        "    del linkanno"
      ]
    },
    {
      "cell_type": "code",
      "execution_count": null,
      "metadata": {
        "id": "qCwrTRU-gOXg"
      },
      "outputs": [],
      "source": [
        "main()"
      ]
    },
    {
      "cell_type": "markdown",
      "metadata": {
        "id": "AVGPV8zepID-"
      },
      "source": [
        "# Step 4.  \n",
        "You can delete uploaded files."
      ]
    },
    {
      "cell_type": "code",
      "execution_count": 26,
      "metadata": {
        "id": "p4ZAJ53boaZ_"
      },
      "outputs": [],
      "source": [
        "!find ./ -type f -name \"*.xlsx\" | xargs rm -rf"
      ]
    }
  ],
  "metadata": {
    "colab": {
      "authorship_tag": "ABX9TyPlSS90rr1vZplyDcdpbF1E",
      "collapsed_sections": [
        "C8FoIN04S88D",
        "AVGPV8zepID-"
      ],
      "include_colab_link": true,
      "provenance": []
    },
    "kernelspec": {
      "display_name": "Python 3",
      "name": "python3"
    },
    "language_info": {
      "name": "python"
    }
  },
  "nbformat": 4,
  "nbformat_minor": 0
}
