{
  "nbformat": 4,
  "nbformat_minor": 0,
  "metadata": {
    "colab": {
      "provenance": [],
      "collapsed_sections": [
        "C8FoIN04S88D",
        "AVGPV8zepID-"
      ],
      "authorship_tag": "ABX9TyPlSS90rr1vZplyDcdpbF1E",
      "include_colab_link": true
    },
    "kernelspec": {
      "name": "python3",
      "display_name": "Python 3"
    },
    "language_info": {
      "name": "python"
    }
  },
  "cells": [
    {
      "cell_type": "markdown",
      "metadata": {
        "id": "view-in-github",
        "colab_type": "text"
      },
      "source": [
        "<a href=\"https://colab.research.google.com/github/ysut/weslink/blob/main/weslink_beta.ipynb\" target=\"_parent\"><img src=\"https://colab.research.google.com/assets/colab-badge.svg\" alt=\"Open In Colab\"/></a>"
      ]
    },
    {
      "cell_type": "markdown",
      "source": [
        "# How to use\n",
        "Please click ▶ buttons.  "
      ],
      "metadata": {
        "id": "My3kIrBFiaho"
      }
    },
    {
      "cell_type": "markdown",
      "source": [
        "# Step 1.  \n",
        "Let's upload your files.  \n",
        "Excel file (.xlsx) is only available now (12/20/2022)."
      ],
      "metadata": {
        "id": "mydSnDHwSNcx"
      }
    },
    {
      "cell_type": "code",
      "execution_count": null,
      "metadata": {
        "id": "2XzoDedmh451"
      },
      "outputs": [],
      "source": [
        "from google.colab import files\n",
        "uploaded = files.upload()"
      ]
    },
    {
      "cell_type": "markdown",
      "source": [
        "# Step 2.  \n",
        "Get a path to your file from 📁. You can copy a path by right click.   \n",
        "Then, please paste in the next form."
      ],
      "metadata": {
        "id": "Qnh3ImXyGkc_"
      }
    },
    {
      "cell_type": "code",
      "source": [
        "input_file = input('Please enter a path: ')"
      ],
      "metadata": {
        "id": "Fmemv_t8jZHp"
      },
      "execution_count": null,
      "outputs": []
    },
    {
      "cell_type": "markdown",
      "source": [
        "# Step 3.\n",
        "まとめてRUNしてください．"
      ],
      "metadata": {
        "id": "JDz4Ml5nHctp"
      }
    },
    {
      "cell_type": "markdown",
      "source": [
        "# RUN"
      ],
      "metadata": {
        "id": "C8FoIN04S88D"
      }
    },
    {
      "cell_type": "code",
      "source": [
        "import openpyxl as px\n",
        "import pathlib"
      ],
      "metadata": {
        "id": "55dO0FL9yMs2"
      },
      "execution_count": 22,
      "outputs": []
    },
    {
      "cell_type": "code",
      "source": [
        "hgmd_link = '1'\n",
        "ucsc_link = '2'\n",
        "decipher_link = '3'\n",
        "symbol_column = 'Gene.refGene'"
      ],
      "metadata": {
        "id": "XaO6k3ppPN60"
      },
      "execution_count": 23,
      "outputs": []
    },
    {
      "cell_type": "markdown",
      "source": [
        "## Code  \n",
        "There is main code. You can modify it as needed."
      ],
      "metadata": {
        "id": "uCk5c5REjluR"
      }
    },
    {
      "cell_type": "code",
      "source": [
        "class HyperLinks:\n",
        "    def __init__(self, input_file, hgmd_link, ucsc_link, decipher_link, symbol_column):\n",
        "        self.input_file = input_file\n",
        "        self.workbook = px.load_workbook(self.input_file)\n",
        "        self.sheet_names = self.workbook.sheetnames\n",
        "        self.sheets = self.workbook.worksheets\n",
        "        self.symbol_column = symbol_column\n",
        "        self.insert_column_hgmd = px.utils.cell.get_column_letter(int(hgmd_link))\n",
        "        self.insert_column_ucsc = px.utils.cell.get_column_letter(int(ucsc_link))\n",
        "        self.insert_column_decipher = px.utils.cell.get_column_letter(int(decipher_link))\n",
        "        self.input_path = pathlib.Path(self.input_file)\n",
        "        self.input_file_name = self.input_path.stem\n",
        "    \n",
        "    def __del__(self):\n",
        "        self.workbook.close()\n",
        "        \n",
        "    def _search_column_letter(self, keywords):\n",
        "        result = {}\n",
        "        for i, sheet in enumerate(self.sheets):\n",
        "            for cell in sheet['1']:\n",
        "                try:\n",
        "                    value = str(cell.value)\n",
        "                except: \n",
        "                    continue\n",
        "                for keyword in keywords:\n",
        "                    if value == keyword:\n",
        "                        letter = cell.column_letter\n",
        "                        result[self.sheet_names[i]] = letter\n",
        "                        break\n",
        "                    else:\n",
        "                        pass\n",
        "        return result \n",
        "    \n",
        "    def hyperlink_hgmd(self):\n",
        "        symbol_column_letters = self._search_column_letter([self.symbol_column])\n",
        "        for sheet_num, sheet in enumerate(self.sheets):\n",
        "            symbol_column_letter = symbol_column_letters[self.sheet_names[sheet_num]]\n",
        "            max_row = sheet.max_row\n",
        "            for index in range(max_row):\n",
        "                gene_symbol = sheet[f'{symbol_column_letter}{index + 1}'].value             \n",
        "                hgmd_url = f'https://my.qiagendigitalinsights.com/bbp/view/hgmd/pro/gene.php?gene={gene_symbol}'\n",
        "                sheet[f'{self.insert_column_hgmd}{index + 1}'].hyperlink = hgmd_url \n",
        "\n",
        "    def save_dl(self):\n",
        "        output_name = f'{self.input_file}.weslinked.xlsx'\n",
        "        self.workbook.save(output_name)\n",
        "        files.download(output_name)\n",
        "\n",
        "def main():\n",
        "    linkanno = HyperLinks(input_file, hgmd_link, ucsc_link, decipher_link, symbol_column)\n",
        "    linkanno.hyperlink_hgmd()\n",
        "    linkanno.save_dl()\n",
        "    del linkanno\n"
      ],
      "metadata": {
        "id": "GCgCSzXUa3tV"
      },
      "execution_count": 24,
      "outputs": []
    },
    {
      "cell_type": "code",
      "source": [
        "main()"
      ],
      "metadata": {
        "id": "qCwrTRU-gOXg"
      },
      "execution_count": null,
      "outputs": []
    },
    {
      "cell_type": "markdown",
      "source": [
        "# Step 4.  \n",
        "You can delete uploaded files."
      ],
      "metadata": {
        "id": "AVGPV8zepID-"
      }
    },
    {
      "cell_type": "code",
      "source": [
        "!find ./ -type f -name \"*.xlsx\" | xargs rm -rf"
      ],
      "metadata": {
        "id": "p4ZAJ53boaZ_"
      },
      "execution_count": 26,
      "outputs": []
    }
  ]
}